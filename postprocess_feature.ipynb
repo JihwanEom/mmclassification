{
 "cells": [
  {
   "cell_type": "code",
   "execution_count": 1,
   "id": "02ada848",
   "metadata": {},
   "outputs": [],
   "source": [
    "import pickle\n",
    "import pandas as pd\n",
    "import numpy as np\n",
    "from tqdm import tqdm"
   ]
  },
  {
   "cell_type": "code",
   "execution_count": 2,
   "id": "6beeac00",
   "metadata": {},
   "outputs": [],
   "source": [
    "def load_pickle(filename):\n",
    "    print(f\"Load {filename} as object ..\")\n",
    "    with open(filename, 'rb')  as f:\n",
    "        data = pickle.load(f)\n",
    "    return data\n",
    "\n",
    "def save_pickle(filename, object):\n",
    "    print(f\"Save {filename} as pickle ...\")\n",
    "    with open(filename, 'wb')  as f:\n",
    "        pickle.dump(object, f, pickle.HIGHEST_PROTOCOL)\n",
    "        \n",
    "def add_labels(file):\n",
    "    for i in tqdm(range(len(file))):\n",
    "        filename = file[i]['filename']\n",
    "        df = metadata[metadata['image_name'] == filename]\n",
    "        file[i]['POA_attribution'] = df['POA_attribution'].values[0]\n",
    "        file[i]['activity_category'] = df['activity_category'].values[0]\n",
    "        file[i]['activity_type'] = df['activity_type'].values[0]\n",
    "    return file"
   ]
  },
  {
   "cell_type": "code",
   "execution_count": 3,
   "id": "5fc38051",
   "metadata": {},
   "outputs": [
    {
     "name": "stdout",
     "output_type": "stream",
     "text": [
      "Load pickles/mmcls_mmcls_feature_only.pickle as object ..\n",
      "Load pickles/mmcls_clip_feature_only.pickle as object ..\n"
     ]
    }
   ],
   "source": [
    "metadata = pd.read_csv(\"/home/jeom/workspace/AIE/data/TRAIN_images_metadata.csv\")\n",
    "load_mmcls_mmcls = load_pickle(\"pickles/mmcls_mmcls_feature_only.pickle\")\n",
    "load_mmcls_clip = load_pickle(\"pickles/mmcls_clip_feature_only.pickle\")\n",
    "# load_mmcls_clip_norm = load_pickle(\"pickles/mmcls_clip_norm_feature_only.pickle\")\n",
    "# load_clip_clip = load_pickle(\"train_ViT-L-14@336px_keep_ratio_false_result.pickle\")\n",
    "# for i in range(len(load_clip_clip)):\n",
    "#     load_clip_clip[i].pop('label')"
   ]
  },
  {
   "cell_type": "code",
   "execution_count": 4,
   "id": "c192ff9b",
   "metadata": {
    "scrolled": true
   },
   "outputs": [
    {
     "name": "stderr",
     "output_type": "stream",
     "text": [
      "100%|██████████| 100029/100029 [06:52<00:00, 242.46it/s]\n",
      "100%|██████████| 100029/100029 [06:54<00:00, 241.42it/s]\n"
     ]
    }
   ],
   "source": [
    "mmcls_mmcls = add_labels(load_mmcls_mmcls)\n",
    "mmcls_clip = add_labels(load_mmcls_clip)\n",
    "# mmcls_clip_norm = add_labels(load_mmcls_clip_norm)\n",
    "# clip_clip = add_labels(load_clip_clip)"
   ]
  },
  {
   "cell_type": "code",
   "execution_count": 5,
   "id": "8b15ab8f",
   "metadata": {
    "scrolled": true
   },
   "outputs": [
    {
     "name": "stdout",
     "output_type": "stream",
     "text": [
      "Save pickles/mmcls_mmcls_feature.pickle as pickle ...\n",
      "Save pickles/mmcls_clip_feature.pickle as pickle ...\n"
     ]
    }
   ],
   "source": [
    "save_pickle(\"pickles/mmcls_mmcls_feature.pickle\", mmcls_mmcls)\n",
    "save_pickle(\"pickles/mmcls_clip_feature.pickle\", mmcls_clip)\n",
    "# save_pickle(\"pickles/mmcls_clip_norm_feature.pickle\", mmcls_clip_norm)\n",
    "# save_pickle(\"pickles/clip_clip_feature.pickle\", clip_clip)"
   ]
  },
  {
   "cell_type": "code",
   "execution_count": 6,
   "id": "4ec67c76",
   "metadata": {},
   "outputs": [
    {
     "name": "stderr",
     "output_type": "stream",
     "text": [
      "100%|██████████| 100029/100029 [01:18<00:00, 1280.16it/s]\n",
      "100%|██████████| 100029/100029 [00:38<00:00, 2586.14it/s]\n"
     ]
    },
    {
     "name": "stdout",
     "output_type": "stream",
     "text": [
      "Save pickles/train_split_mmcls_mmcls_feature.pickle as pickle ...\n",
      "Save pickles/test_split_mmcls_mmcls_feature.pickle as pickle ...\n"
     ]
    },
    {
     "name": "stderr",
     "output_type": "stream",
     "text": [
      "100%|██████████| 100029/100029 [01:18<00:00, 1281.60it/s]\n",
      "100%|██████████| 100029/100029 [00:38<00:00, 2588.15it/s]\n"
     ]
    },
    {
     "name": "stdout",
     "output_type": "stream",
     "text": [
      "Save pickles/train_split_mmcls_clip_feature.pickle as pickle ...\n",
      "Save pickles/test_split_mmcls_clip_feature.pickle as pickle ...\n"
     ]
    }
   ],
   "source": [
    "train_metadata = pd.read_csv(\"/home/jeom/workspace/AIE/data/TRAIN_split_images_metadata.csv\")\n",
    "test_metadata = pd.read_csv(\"/home/jeom/workspace/AIE/data/TEST_split_images_metadata.csv\")\n",
    "train_names = train_metadata['image_name'].values\n",
    "test_names = test_metadata['image_name'].values\n",
    "\n",
    "\n",
    "\n",
    "train_mmcls_mmcls = [i for i in tqdm(mmcls_mmcls) if i['filename'] in train_names]\n",
    "test_mmcls_mmcls = [i for i in tqdm(mmcls_mmcls) if i['filename'] in test_names]\n",
    "save_pickle(\"pickles/train_split_mmcls_mmcls_feature.pickle\", train_mmcls_mmcls)\n",
    "save_pickle(\"pickles/test_split_mmcls_mmcls_feature.pickle\", test_mmcls_mmcls)\n",
    "\n",
    "train_mmcls_clip = [i for i in tqdm(mmcls_clip) if i['filename'] in train_names]\n",
    "test_mmcls_clip = [i for i in tqdm(mmcls_clip) if i['filename'] in test_names]\n",
    "save_pickle(\"pickles/train_split_mmcls_clip_feature.pickle\", train_mmcls_clip)\n",
    "save_pickle(\"pickles/test_split_mmcls_clip_feature.pickle\", test_mmcls_clip)\n",
    "\n",
    "# train_mmcls_clip_norm = [i for i in tqdm(mmcls_clip_norm) if i['filename'] in train_names]\n",
    "# test_mmcls_clip_norm = [i for i in tqdm(mmcls_clip_norm) if i['filename'] in test_names]\n",
    "# save_pickle(\"pickles/train_split_mmcls_clip_norm_feature.pickle\", train_mmcls_clip_norm)\n",
    "# save_pickle(\"pickles/test_split_mmcls_clip_norm_feature.pickle\", test_mmcls_clip_norm)\n",
    "\n",
    "# train_clip_clip = [i for i in tqdm(clip_clip) if i['filename'] in train_names]\n",
    "# test_clip_clip = [i for i in tqdm(clip_clip) if i['filename'] in test_names]\n",
    "# save_pickle(\"pickles/train_split_clip_clip_feature.pickle\", train_clip_clip)\n",
    "# save_pickle(\"pickles/test_split_clip_clip_feature.pickle\", test_clip_clip)\n",
    "\n"
   ]
  }
 ],
 "metadata": {
  "kernelspec": {
   "display_name": "Python 3",
   "language": "python",
   "name": "python3"
  },
  "language_info": {
   "codemirror_mode": {
    "name": "ipython",
    "version": 3
   },
   "file_extension": ".py",
   "mimetype": "text/x-python",
   "name": "python",
   "nbconvert_exporter": "python",
   "pygments_lexer": "ipython3",
   "version": "3.8.8"
  }
 },
 "nbformat": 4,
 "nbformat_minor": 5
}
