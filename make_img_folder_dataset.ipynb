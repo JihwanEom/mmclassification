{
 "cells": [
  {
   "cell_type": "code",
   "execution_count": 2,
   "id": "55d8b82b",
   "metadata": {},
   "outputs": [],
   "source": [
    "import pandas as pd\n",
    "import numpy as np\n",
    "import glob\n",
    "import os\n",
    "import shutil"
   ]
  },
  {
   "cell_type": "code",
   "execution_count": 3,
   "id": "8bc8b2a6",
   "metadata": {},
   "outputs": [],
   "source": [
    "metadata = pd.read_csv('../AIE/data/TRAIN_images_metadata.csv')"
   ]
  },
  {
   "cell_type": "code",
   "execution_count": 4,
   "id": "40d2308c",
   "metadata": {},
   "outputs": [
    {
     "data": {
      "text/html": [
       "<div>\n",
       "<style scoped>\n",
       "    .dataframe tbody tr th:only-of-type {\n",
       "        vertical-align: middle;\n",
       "    }\n",
       "\n",
       "    .dataframe tbody tr th {\n",
       "        vertical-align: top;\n",
       "    }\n",
       "\n",
       "    .dataframe thead th {\n",
       "        text-align: right;\n",
       "    }\n",
       "</style>\n",
       "<table border=\"1\" class=\"dataframe\">\n",
       "  <thead>\n",
       "    <tr style=\"text-align: right;\">\n",
       "      <th></th>\n",
       "      <th>image_name</th>\n",
       "      <th>ref_id</th>\n",
       "      <th>POA_attribution</th>\n",
       "      <th>activity_category</th>\n",
       "      <th>activity_type</th>\n",
       "    </tr>\n",
       "  </thead>\n",
       "  <tbody>\n",
       "    <tr>\n",
       "      <th>0</th>\n",
       "      <td>10000_00113332-001_1.JPEG</td>\n",
       "      <td>00113332-001</td>\n",
       "      <td>Yes</td>\n",
       "      <td>Digital Media</td>\n",
       "      <td>NonPartner.com</td>\n",
       "    </tr>\n",
       "    <tr>\n",
       "      <th>1</th>\n",
       "      <td>10001_00113332-001_1.jpg</td>\n",
       "      <td>00113332-001</td>\n",
       "      <td>Yes</td>\n",
       "      <td>Digital Media</td>\n",
       "      <td>NonPartner.com</td>\n",
       "    </tr>\n",
       "    <tr>\n",
       "      <th>2</th>\n",
       "      <td>10002_00113332-001_10.jpg</td>\n",
       "      <td>00113332-001</td>\n",
       "      <td>Yes</td>\n",
       "      <td>Digital Media</td>\n",
       "      <td>NonPartner.com</td>\n",
       "    </tr>\n",
       "    <tr>\n",
       "      <th>3</th>\n",
       "      <td>10003_00113332-001_2.jpg</td>\n",
       "      <td>00113332-001</td>\n",
       "      <td>Yes</td>\n",
       "      <td>Digital Media</td>\n",
       "      <td>NonPartner.com</td>\n",
       "    </tr>\n",
       "    <tr>\n",
       "      <th>4</th>\n",
       "      <td>10004_00113332-001_3.jpg</td>\n",
       "      <td>00113332-001</td>\n",
       "      <td>Yes</td>\n",
       "      <td>Digital Media</td>\n",
       "      <td>NonPartner.com</td>\n",
       "    </tr>\n",
       "  </tbody>\n",
       "</table>\n",
       "</div>"
      ],
      "text/plain": [
       "                  image_name        ref_id POA_attribution activity_category  \\\n",
       "0  10000_00113332-001_1.JPEG  00113332-001             Yes     Digital Media   \n",
       "1   10001_00113332-001_1.jpg  00113332-001             Yes     Digital Media   \n",
       "2  10002_00113332-001_10.jpg  00113332-001             Yes     Digital Media   \n",
       "3   10003_00113332-001_2.jpg  00113332-001             Yes     Digital Media   \n",
       "4   10004_00113332-001_3.jpg  00113332-001             Yes     Digital Media   \n",
       "\n",
       "    activity_type  \n",
       "0  NonPartner.com  \n",
       "1  NonPartner.com  \n",
       "2  NonPartner.com  \n",
       "3  NonPartner.com  \n",
       "4  NonPartner.com  "
      ]
     },
     "execution_count": 4,
     "metadata": {},
     "output_type": "execute_result"
    }
   ],
   "source": [
    "metadata.head()"
   ]
  },
  {
   "cell_type": "code",
   "execution_count": 8,
   "id": "db417270",
   "metadata": {},
   "outputs": [
    {
     "name": "stderr",
     "output_type": "stream",
     "text": [
      "100%|██████████| 100029/100029 [02:04<00:00, 800.57it/s]\n"
     ]
    }
   ],
   "source": [
    "src_root = 'data/TRAIN_IMAGES'\n",
    "dst_root = 'data/label'\n",
    "for i in tqdm(range(len(metadata))):\n",
    "    filename, ref_id, poa, acat, atype = metadata.iloc[i].values\n",
    "    if not os.path.exists(os.path.join(dst_root, \"POA\", poa)):\n",
    "        os.makedirs(os.path.join(dst_root, \"POA\", poa))\n",
    "#     if not os.path.exists(os.path.join(dst_root, \"Category\", acat)):\n",
    "#         os.makedirs(os.path.join(dst_root, \"Category\", acat))\n",
    "#     if not os.path.exists(os.path.join(dst_root, \"Type\", atype)):\n",
    "#         os.makedirs(os.path.join(dst_root, \"Type\", atype))\n",
    "        \n",
    "    shutil.copy(os.path.join(src_root, filename), os.path.join(dst_root, \"POA\", poa, filename))\n",
    "#     shutil.copy(os.path.join(src_root, filename), os.path.join(dst_root, \"Category\", acat, filename))\n",
    "#     shutil.copy(os.path.join(src_root, filename), os.path.join(dst_root, \"Type\", atype, filename))"
   ]
  },
  {
   "cell_type": "code",
   "execution_count": null,
   "id": "aaf23b73",
   "metadata": {},
   "outputs": [],
   "source": []
  }
 ],
 "metadata": {
  "kernelspec": {
   "display_name": "Python 3",
   "language": "python",
   "name": "python3"
  },
  "language_info": {
   "codemirror_mode": {
    "name": "ipython",
    "version": 3
   },
   "file_extension": ".py",
   "mimetype": "text/x-python",
   "name": "python",
   "nbconvert_exporter": "python",
   "pygments_lexer": "ipython3",
   "version": "3.8.8"
  }
 },
 "nbformat": 4,
 "nbformat_minor": 5
}
